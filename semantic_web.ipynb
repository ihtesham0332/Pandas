{
  "nbformat": 4,
  "nbformat_minor": 0,
  "metadata": {
    "colab": {
      "provenance": [],
      "include_colab_link": true
    },
    "kernelspec": {
      "name": "python3",
      "display_name": "Python 3"
    },
    "language_info": {
      "name": "python"
    }
  },
  "cells": [
    {
      "cell_type": "markdown",
      "metadata": {
        "id": "view-in-github",
        "colab_type": "text"
      },
      "source": [
        "<a href=\"https://colab.research.google.com/github/ihtesham0332/Pandas/blob/main/semantic_web.ipynb\" target=\"_parent\"><img src=\"https://colab.research.google.com/assets/colab-badge.svg\" alt=\"Open In Colab\"/></a>"
      ]
    },
    {
      "cell_type": "markdown",
      "source": [
        "Code by Bilal Durrani"
      ],
      "metadata": {
        "id": "AxqYyb3KHPdO"
      }
    },
    {
      "cell_type": "code",
      "source": [
        "pip install rdflib"
      ],
      "metadata": {
        "colab": {
          "base_uri": "https://localhost:8080/"
        },
        "id": "zQLn1KIS9UhN",
        "outputId": "b8b9ee1a-5195-4732-d21a-d5f26847ea41"
      },
      "execution_count": 2,
      "outputs": [
        {
          "output_type": "stream",
          "name": "stdout",
          "text": [
            "Requirement already satisfied: rdflib in /usr/local/lib/python3.10/dist-packages (7.0.0)\n",
            "Requirement already satisfied: isodate<0.7.0,>=0.6.0 in /usr/local/lib/python3.10/dist-packages (from rdflib) (0.6.1)\n",
            "Requirement already satisfied: pyparsing<4,>=2.1.0 in /usr/local/lib/python3.10/dist-packages (from rdflib) (3.1.1)\n",
            "Requirement already satisfied: six in /usr/local/lib/python3.10/dist-packages (from isodate<0.7.0,>=0.6.0->rdflib) (1.16.0)\n"
          ]
        }
      ]
    },
    {
      "cell_type": "code",
      "execution_count": null,
      "metadata": {
        "colab": {
          "base_uri": "https://localhost:8080/"
        },
        "id": "_q2oCy-e9Qoi",
        "outputId": "b693ebf9-d431-4d32-9508-08ad5bdde30f"
      },
      "outputs": [
        {
          "output_type": "execute_result",
          "data": {
            "text/plain": [
              "<Graph identifier=N535e5cd81115468aadb346722141617b (<class 'rdflib.graph.Graph'>)>"
            ]
          },
          "metadata": {},
          "execution_count": 4
        }
      ],
      "source": [
        "from rdflib import Graph, Namespace, Literal, RDF\n",
        "\n",
        "g = Graph()\n",
        "\n",
        "ont = Namespace(\"http://USTB/ontology/\")\n",
        "\n",
        "g.add((ont.herbivorous, RDF.type, ont.Animal))\n",
        "g.add((ont.herbivorous, ont.hasLegs, Literal(4)) )\n",
        "g.add((ont.herbivorous, ont.eat, ont.Grass))\n",
        "\n",
        "g.add((ont.carnivorous, RDF.type, ont.Animal))\n",
        "g.add((ont.carnivorous, ont.hasLegs, Literal(4) ))\n",
        "g.add((ont.carnivorous, ont.eat, ont.Meat))\n",
        "\n",
        "\n",
        "g.add((ont.omnivores, RDF.type, ont.Animal))\n",
        "g.add((ont.omnivores, ont.hasLegs, Literal(4)) )\n",
        "g.add((ont.omnivores, ont.eat, ont.Meat))\n",
        "g.add((ont.omnivores, ont.eat, ont.Grass))\n",
        "\n",
        "g.add((ont.lion, RDF.type, ont.Animal))\n",
        "g.add((ont.lion, RDF.type, ont.carnivorous))\n",
        "g.add((ont.lion, ont.hasLegs, Literal(4)))\n",
        "g.add((ont.lion, ont.eat, ont.Meat))\n",
        "\n",
        "g.add((ont.tiger, RDF.type, ont.Animal))\n",
        "g.add((ont.tiger, RDF.type, ont.carnivorous))\n",
        "g.add((ont.tiger, ont.hasLegs, Literal(4)))\n",
        "g.add((ont.tiger, ont.eat, ont.Meat))\n",
        "\n",
        "g.add((ont.goat, RDF.type, ont.Animal))\n",
        "g.add((ont.goat, RDF.type, ont.herbivorous))\n",
        "g.add((ont.goat, ont.hasLegs, Literal(4)))\n",
        "g.add((ont.goat, ont.eat, ont.Grass))\n",
        "\n",
        "g.add((ont.cow, RDF.type, ont.Animal))\n",
        "g.add((ont.cow, RDF.type, ont.herbivorous))\n",
        "g.add((ont.cow, ont.hasLegs, Literal(4)))\n",
        "g.add((ont.cow, ont.eat, ont.Grass))\n",
        "\n",
        "g.add((ont.fish , RDF.type, ont.Animal))\n",
        "g.add((ont.fish , RDF.type, ont.omnivores))\n",
        "g.add((ont.fish , ont.hasLegs, Literal(0)))\n",
        "g.add((ont.fish , ont.eat, ont.Meat))\n",
        "g.add((ont.fish , ont.eat, ont.Grass))\n",
        "\n",
        "g.add((ont.bear, RDF.type, ont.Animal))\n",
        "g.add((ont.bear, RDF.type, ont.omnivores))\n",
        "g.add((ont.bear, ont.hasLegs, Literal(4)))\n",
        "g.add((ont.bear, ont.eat, ont.Meat))\n",
        "g.add((ont.bear, ont.eat, ont.Grass))\n",
        "\n",
        "g.serialize(\"animals.rdf\", format=\"xml\")"
      ]
    },
    {
      "cell_type": "code",
      "source": [
        "# Load the RDF graph from the file path\n",
        "\n",
        "rdf_graph = Graph()\n",
        "path = \"animals.rdf\"\n",
        "rdf_graph.parse(path, format=\"xml\")\n",
        "\n",
        "rdf_string = rdf_graph.serialize(format=\"turtle\")\n",
        "\n",
        "for s, p, o in rdf_graph:\n",
        "    print(f\"Subject: {s}, Predicate: {p}, Object: {o}\")\n",
        "\n",
        "print(rdf_string)"
      ],
      "metadata": {
        "colab": {
          "base_uri": "https://localhost:8080/"
        },
        "id": "XWOKX9gq9oBv",
        "outputId": "cff9c00b-d0df-4df9-a925-5ccf55a734d0"
      },
      "execution_count": null,
      "outputs": [
        {
          "output_type": "stream",
          "name": "stdout",
          "text": [
            "Subject: http://USTB/ontology/fish, Predicate: http://USTB/ontology/eat, Object: http://USTB/ontology/Grass\n",
            "Subject: http://USTB/ontology/cow, Predicate: http://USTB/ontology/eat, Object: http://USTB/ontology/Grass\n",
            "Subject: http://USTB/ontology/goat, Predicate: http://USTB/ontology/eat, Object: http://USTB/ontology/Grass\n",
            "Subject: http://USTB/ontology/tiger, Predicate: http://www.w3.org/1999/02/22-rdf-syntax-ns#type, Object: http://USTB/ontology/Animal\n",
            "Subject: http://USTB/ontology/tiger, Predicate: http://USTB/ontology/eat, Object: http://USTB/ontology/Meat\n",
            "Subject: http://USTB/ontology/bear, Predicate: http://USTB/ontology/hasLegs, Object: 4\n",
            "Subject: http://USTB/ontology/fish, Predicate: http://USTB/ontology/hasLegs, Object: 0\n",
            "Subject: http://USTB/ontology/herbivorous, Predicate: http://USTB/ontology/hasLegs, Object: 4\n",
            "Subject: http://USTB/ontology/omnivores, Predicate: http://www.w3.org/1999/02/22-rdf-syntax-ns#type, Object: http://USTB/ontology/Animal\n",
            "Subject: http://USTB/ontology/omnivores, Predicate: http://USTB/ontology/eat, Object: http://USTB/ontology/Meat\n",
            "Subject: http://USTB/ontology/lion, Predicate: http://USTB/ontology/hasLegs, Object: 4\n",
            "Subject: http://USTB/ontology/goat, Predicate: http://USTB/ontology/hasLegs, Object: 4\n",
            "Subject: http://USTB/ontology/cow, Predicate: http://USTB/ontology/hasLegs, Object: 4\n",
            "Subject: http://USTB/ontology/goat, Predicate: http://www.w3.org/1999/02/22-rdf-syntax-ns#type, Object: http://USTB/ontology/herbivorous\n",
            "Subject: http://USTB/ontology/cow, Predicate: http://www.w3.org/1999/02/22-rdf-syntax-ns#type, Object: http://USTB/ontology/herbivorous\n",
            "Subject: http://USTB/ontology/herbivorous, Predicate: http://www.w3.org/1999/02/22-rdf-syntax-ns#type, Object: http://USTB/ontology/Animal\n",
            "Subject: http://USTB/ontology/bear, Predicate: http://USTB/ontology/eat, Object: http://USTB/ontology/Meat\n",
            "Subject: http://USTB/ontology/carnivorous, Predicate: http://USTB/ontology/hasLegs, Object: 4\n",
            "Subject: http://USTB/ontology/lion, Predicate: http://www.w3.org/1999/02/22-rdf-syntax-ns#type, Object: http://USTB/ontology/carnivorous\n",
            "Subject: http://USTB/ontology/omnivores, Predicate: http://USTB/ontology/eat, Object: http://USTB/ontology/Grass\n",
            "Subject: http://USTB/ontology/bear, Predicate: http://www.w3.org/1999/02/22-rdf-syntax-ns#type, Object: http://USTB/ontology/Animal\n",
            "Subject: http://USTB/ontology/bear, Predicate: http://www.w3.org/1999/02/22-rdf-syntax-ns#type, Object: http://USTB/ontology/omnivores\n",
            "Subject: http://USTB/ontology/fish, Predicate: http://USTB/ontology/eat, Object: http://USTB/ontology/Meat\n",
            "Subject: http://USTB/ontology/fish, Predicate: http://www.w3.org/1999/02/22-rdf-syntax-ns#type, Object: http://USTB/ontology/Animal\n",
            "Subject: http://USTB/ontology/cow, Predicate: http://www.w3.org/1999/02/22-rdf-syntax-ns#type, Object: http://USTB/ontology/Animal\n",
            "Subject: http://USTB/ontology/fish, Predicate: http://www.w3.org/1999/02/22-rdf-syntax-ns#type, Object: http://USTB/ontology/omnivores\n",
            "Subject: http://USTB/ontology/goat, Predicate: http://www.w3.org/1999/02/22-rdf-syntax-ns#type, Object: http://USTB/ontology/Animal\n",
            "Subject: http://USTB/ontology/lion, Predicate: http://USTB/ontology/eat, Object: http://USTB/ontology/Meat\n",
            "Subject: http://USTB/ontology/tiger, Predicate: http://USTB/ontology/hasLegs, Object: 4\n",
            "Subject: http://USTB/ontology/bear, Predicate: http://USTB/ontology/eat, Object: http://USTB/ontology/Grass\n",
            "Subject: http://USTB/ontology/herbivorous, Predicate: http://USTB/ontology/eat, Object: http://USTB/ontology/Grass\n",
            "Subject: http://USTB/ontology/omnivores, Predicate: http://USTB/ontology/hasLegs, Object: 4\n",
            "Subject: http://USTB/ontology/lion, Predicate: http://www.w3.org/1999/02/22-rdf-syntax-ns#type, Object: http://USTB/ontology/Animal\n",
            "Subject: http://USTB/ontology/carnivorous, Predicate: http://www.w3.org/1999/02/22-rdf-syntax-ns#type, Object: http://USTB/ontology/Animal\n",
            "Subject: http://USTB/ontology/carnivorous, Predicate: http://USTB/ontology/eat, Object: http://USTB/ontology/Meat\n",
            "Subject: http://USTB/ontology/tiger, Predicate: http://www.w3.org/1999/02/22-rdf-syntax-ns#type, Object: http://USTB/ontology/carnivorous\n",
            "@prefix ns1: <http://USTB/ontology/> .\n",
            "@prefix xsd: <http://www.w3.org/2001/XMLSchema#> .\n",
            "\n",
            "ns1:bear a ns1:Animal,\n",
            "        ns1:omnivores ;\n",
            "    ns1:eat ns1:Grass,\n",
            "        ns1:Meat ;\n",
            "    ns1:hasLegs 4 .\n",
            "\n",
            "ns1:cow a ns1:Animal,\n",
            "        ns1:herbivorous ;\n",
            "    ns1:eat ns1:Grass ;\n",
            "    ns1:hasLegs 4 .\n",
            "\n",
            "ns1:fish a ns1:Animal,\n",
            "        ns1:omnivores ;\n",
            "    ns1:eat ns1:Grass,\n",
            "        ns1:Meat ;\n",
            "    ns1:hasLegs 0 .\n",
            "\n",
            "ns1:goat a ns1:Animal,\n",
            "        ns1:herbivorous ;\n",
            "    ns1:eat ns1:Grass ;\n",
            "    ns1:hasLegs 4 .\n",
            "\n",
            "ns1:lion a ns1:Animal,\n",
            "        ns1:carnivorous ;\n",
            "    ns1:eat ns1:Meat ;\n",
            "    ns1:hasLegs 4 .\n",
            "\n",
            "ns1:tiger a ns1:Animal,\n",
            "        ns1:carnivorous ;\n",
            "    ns1:eat ns1:Meat ;\n",
            "    ns1:hasLegs 4 .\n",
            "\n",
            "ns1:carnivorous a ns1:Animal ;\n",
            "    ns1:eat ns1:Meat ;\n",
            "    ns1:hasLegs 4 .\n",
            "\n",
            "ns1:herbivorous a ns1:Animal ;\n",
            "    ns1:eat ns1:Grass ;\n",
            "    ns1:hasLegs 4 .\n",
            "\n",
            "ns1:omnivores a ns1:Animal ;\n",
            "    ns1:eat ns1:Grass,\n",
            "        ns1:Meat ;\n",
            "    ns1:hasLegs 4 .\n",
            "\n",
            "\n"
          ]
        }
      ]
    },
    {
      "cell_type": "code",
      "source": [
        "\n",
        "# SPARQL query to find animals that eat only grass\n",
        "query_only_grass = \"\"\"\n",
        "    PREFIX ont: <http://USTB/ontology/>\n",
        "    SELECT ?animal\n",
        "    WHERE {\n",
        "        ?animal rdf:type ont:Animal .\n",
        "        ?animal ont:eat ont:Grass .\n",
        "        MINUS { ?animal ont:eat ?otherFood FILTER (?otherFood != ont:Grass) }\n",
        "    }\n",
        "\"\"\"\n",
        "\n",
        "# SPARQL query to find animals that eat only meat\n",
        "query_only_meat = \"\"\"\n",
        "    PREFIX ont: <http://USTB/ontology/>\n",
        "    SELECT ?animal\n",
        "    WHERE {\n",
        "        ?animal rdf:type ont:Animal .\n",
        "        ?animal ont:eat ont:Meat .\n",
        "        MINUS { ?animal ont:eat ?otherFood FILTER (?otherFood != ont:Meat) }\n",
        "    }\n",
        "\"\"\"\n",
        "\n",
        "# SPARQL query to find animals that eat both grass and meat\n",
        "query_both_grass_and_meat = \"\"\"\n",
        "    PREFIX ont: <http://USTB/ontology/>\n",
        "    SELECT ?animal\n",
        "    WHERE {\n",
        "        ?animal rdf:type ont:Animal .\n",
        "        ?animal ont:eat ont:Grass .\n",
        "        ?animal ont:eat ont:Meat .\n",
        "    }\n",
        "\"\"\"\n",
        "\n",
        "def execute_sparql_query(graph, query):\n",
        "    result = graph.query(query)\n",
        "    return [str(row[0]) for row in result]\n",
        "\n",
        "animals_only_grass = execute_sparql_query(rdf_graph, query_only_grass)\n",
        "animals_only_meat = execute_sparql_query(rdf_graph, query_only_meat)\n",
        "animals_both_grass_and_meat = execute_sparql_query(rdf_graph, query_both_grass_and_meat)\n",
        "\n",
        "# Print the results\n",
        "\n",
        "print(\"Animals that eat only grass:\")\n",
        "print(animals_only_grass)\n",
        "print(\"\\nAnimals that eat only meat:\")\n",
        "print(animals_only_meat )\n",
        "\n",
        "print(\"\\nAnimals that eat both grass and meat:\")\n",
        "print(animals_both_grass_and_meat)\n",
        "\n"
      ],
      "metadata": {
        "colab": {
          "base_uri": "https://localhost:8080/"
        },
        "id": "xQhePy2h9oQy",
        "outputId": "a660af5e-221f-49d5-f61e-892a8cefcc27"
      },
      "execution_count": null,
      "outputs": [
        {
          "output_type": "stream",
          "name": "stdout",
          "text": [
            "Animals that eat only grass:\n",
            "['http://USTB/ontology/cow', 'http://USTB/ontology/goat', 'http://USTB/ontology/herbivorous']\n",
            "\n",
            "Animals that eat only meat:\n",
            "['http://USTB/ontology/tiger', 'http://USTB/ontology/lion', 'http://USTB/ontology/carnivorous']\n",
            "\n",
            "Animals that eat both grass and meat:\n",
            "['http://USTB/ontology/fish', 'http://USTB/ontology/bear', 'http://USTB/ontology/omnivores']\n"
          ]
        }
      ]
    },
    {
      "cell_type": "code",
      "source": [
        "print(\"Animals that eat only grass:\")\n",
        "grass_amimals = []\n",
        "for data in animals_only_grass:\n",
        "  parts = data.split('/')\n",
        "  last_word = parts[-1]\n",
        "  grass_amimals.append(last_word)\n",
        "print(grass_amimals)\n",
        "\n",
        "print(\"\\nAnimals that eat only meat:\")\n",
        "meat_animals = []\n",
        "for data in animals_only_meat:\n",
        "  parts = data.split('/')\n",
        "  last_word = parts[-1]\n",
        "  meat_animals.append(last_word)\n",
        "\n",
        "print(meat_animals)\n",
        "\n",
        "print(\"\\nAnimals that eat both grass and meat:\")\n",
        "meat_and_grass_animals = []\n",
        "for data in animals_both_grass_and_meat:\n",
        "  parts = data.split('/')\n",
        "  last_word = parts[-1]\n",
        "  meat_and_grass_animals.append(last_word)\n",
        "\n",
        "print(meat_and_grass_animals)"
      ],
      "metadata": {
        "id": "klm0xuYX-fW-",
        "colab": {
          "base_uri": "https://localhost:8080/"
        },
        "outputId": "919c8577-8033-4f6a-e16e-9ab37fbb8995"
      },
      "execution_count": null,
      "outputs": [
        {
          "output_type": "stream",
          "name": "stdout",
          "text": [
            "Animals that eat only grass:\n",
            "['cow', 'goat', 'herbivorous']\n",
            "\n",
            "Animals that eat only meat:\n",
            "['tiger', 'lion', 'carnivorous']\n",
            "\n",
            "Animals that eat both grass and meat:\n",
            "['fish', 'bear', 'omnivores']\n"
          ]
        }
      ]
    },
    {
      "cell_type": "code",
      "source": [],
      "metadata": {
        "id": "P9WxEBgn-ovj"
      },
      "execution_count": null,
      "outputs": []
    }
  ]
}